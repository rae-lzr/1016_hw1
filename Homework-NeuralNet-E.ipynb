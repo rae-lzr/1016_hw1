{
 "cells": [
  {
   "cell_type": "markdown",
   "id": "8d533047",
   "metadata": {},
   "source": [
    "# Homework - Neural networks - Part E (50 points)\n",
    "\n",
    "## Discovering lexical classes from simple sentences\n"
   ]
  },
  {
   "cell_type": "markdown",
   "id": "26ce9501",
   "metadata": {},
   "source": [
    "by _Brenden Lake_ and _Todd Gureckis_  \n",
    "Computational Cognitive Modeling  \n",
    "NYU class webpage: https://teaching.gureckislab.org/ccm\n"
   ]
  },
  {
   "cell_type": "markdown",
   "id": "c6a33a7e",
   "metadata": {},
   "source": [
    "<div class=\"alert alert-danger\" role=\"alert\">\n",
    "This homework is due before midnight on Friday, Sept. 27, 2024.\n",
    "</div>\n"
   ]
  },
  {
   "cell_type": "markdown",
   "id": "110537d8",
   "metadata": {},
   "source": [
    "In this assignment, you will follow in Elman's (1990) footsteps by coding and\n",
    "training a Simple Recurrent Network (SRN) on a set of simple sentences.\n",
    "\n",
    "- **Before training**, the SRN can process sequences but otherwise knows\n",
    "  nothing about language. Initially, it represents each word as an arbitrary\n",
    "  continuous vector (input embedding) without knowledge of their roles or how\n",
    "  they relate to each other.\n",
    "- **During training**, the SRN aims to predict the next word in a sentence\n",
    "  given the previous words. The optimizer takes a step after each sentence.\n",
    "- **After training**, you will analyze the SRN's internal representations\n",
    "  (input embeddings) for evidence that it has discovered something about\n",
    "  lexical classes (e.g., nouns and verbs).\n",
    "\n",
    "<div class=\"alert alert-info\">\n",
    "Reference (available for download on Brightspace):\n",
    "    \n",
    "Elman, J. L. (1990). Finding Structure in Time. Cognitive Science, 14:179–211.\n",
    "</div>\n"
   ]
  },
  {
   "cell_type": "code",
   "execution_count": 1,
   "id": "3f1b0e87",
   "metadata": {},
   "outputs": [],
   "source": [
    "# Let's start with some packages we need\n",
    "from __future__ import print_function\n",
    "import torch\n",
    "import torch.nn as nn\n",
    "import numpy as np\n",
    "import matplotlib\n",
    "%matplotlib inline\n",
    "import matplotlib.pyplot as plt\n",
    "from scipy.cluster.hierarchy import dendrogram, linkage"
   ]
  },
  {
   "cell_type": "markdown",
   "id": "6a0e6487",
   "metadata": {},
   "source": [
    "### Elman's set of simple sentences\n",
    "\n",
    "The training set consists of 10,000 sentences each with 2 or 3 words. Elman\n",
    "generated each sentence as follows:\n",
    "\n",
    "1. Choose one of 16 templates specificying a sequence of lexical classes (see\n",
    "   below)\n",
    "2. Each lexical class is replaced by a word sampled from that class. (see\n",
    "   below, only a subset of words shown).\n",
    "\n",
    "The vocabulary contained 29 words. For example, the template\n",
    "`NOUN-AGRESS VERB-EAT NOUN-FOOD` can lead to the sentence `dragon eat cookie`\n",
    "along with other possibilities. We generated 10,000 sentences using our best\n",
    "guess of Elman's procedure (the full set of lexical classes isn't listed). You\n",
    "can see these sentences in the external text file `data/elman_sentences.txt`\n",
    "\n",
    "<img src=\"images/elman_tab3.png\" width=400px>\n",
    "<img src=\"images/elman_tab4.png\" width=400px>\n"
   ]
  },
  {
   "cell_type": "markdown",
   "id": "82decfce",
   "metadata": {},
   "source": [
    "### Loading the data\n",
    "\n",
    "The following code will load and process the set of simple sentences. As is\n",
    "common in neural networks for text and natural language processing, the\n",
    "sentence strings are first \"tokenized\" into a list of discrete elements (words\n",
    "in this case). Additionally, special tokens indicating the start-of-sentence\n",
    "`<SOS>` and end-of-sentence `<EOS>` are added at the beginning and end of the\n",
    "sentence, respectively. The SRN requires an input at every step and thus we\n",
    "use `<SOS>` as the first input when the SRN is predicting the first word as\n",
    "output. The SRN can self-terminate a sentence by producing `<EOS>` as an\n",
    "output. The dict `token_to_index` maps each token to a unique integer, which\n",
    "is the format that the SRN actually uses as input.\n",
    "\n",
    "Running the code below will show you the dict `token_to_index` and how the\n",
    "first sentence `dragon break plate` is tokenized into integers. Make sure you\n",
    "understand how this works and how to map back and forth between the formats!\n"
   ]
  },
  {
   "cell_type": "code",
   "execution_count": 2,
   "id": "6419fdbb",
   "metadata": {},
   "outputs": [
    {
     "name": "stdout",
     "output_type": "stream",
     "text": [
      "mapping unique tokens to integers: {'<EOS>': 0, '<SOS>': 1, 'book': 2, 'boy': 3, 'bread': 4, 'break': 5, 'car': 6, 'cat': 7, 'chase': 8, 'cookie': 9, 'dog': 10, 'dragon': 11, 'eat': 12, 'exist': 13, 'girl': 14, 'glass': 15, 'like': 16, 'lion': 17, 'man': 18, 'monster': 19, 'mouse': 20, 'move': 21, 'plate': 22, 'rock': 23, 'sandwich': 24, 'see': 25, 'sleep': 26, 'smash': 27, 'smell': 28, 'think': 29, 'woman': 30} \n",
      "\n",
      "example sentence as string: <SOS> dragon break plate <EOS> \n",
      "\n",
      "example sentence as tensor: tensor([ 1, 11,  5, 22,  0]) \n",
      "\n"
     ]
    }
   ],
   "source": [
    "def sentenceToTensor(tokens_list):\n",
    "    # Convert list of strings to tensor of token indices (integers)\n",
    "    #\n",
    "    # Input\n",
    "    #  tokens_list : list of strings, e.g. ['<SOS>','lion','eat','man','<EOS>']\n",
    "    # Output\n",
    "    #  1D tensor of the same length (integers), e.g., tensor([ 2, 18, 13, 19,  0])\n",
    "    assert isinstance(tokens_list, list)\n",
    "    tokens_index = [token_to_index[token] for token in tokens_list]\n",
    "    return torch.tensor(tokens_index)\n",
    "\n",
    "\n",
    "# load and process the set of simple sentences\n",
    "with open(\"data/elman_sentences.txt\", \"r\") as fid:\n",
    "    lines = fid.readlines()\n",
    "sentences_str = [l.strip() for l in lines]\n",
    "sentences_tokens = [s.split() for s in sentences_str]\n",
    "sentences_tokens = [[\"<SOS>\"] + s + [\"<EOS>\"] for s in sentences_tokens]\n",
    "unique_tokens = sorted(set(sum(sentences_tokens, [])))\n",
    "n_tokens = len(unique_tokens)  # all words and special tokens\n",
    "token_to_index = {t: i for i, t in enumerate(unique_tokens)}\n",
    "index_to_token = {i: t for i, t in enumerate(unique_tokens)}\n",
    "training_pats = [\n",
    "    sentenceToTensor(s) for s in sentences_tokens\n",
    "]  # python list of 1D sentence tensors\n",
    "ntrain = len(training_pats)\n",
    "print(\"mapping unique tokens to integers: %s \\n\" % token_to_index)\n",
    "print(\"example sentence as string: %s \\n\" % \" \".join(sentences_tokens[0]))\n",
    "print(\"example sentence as tensor: %s \\n\" % training_pats[0])"
   ]
  },
  {
   "cell_type": "markdown",
   "id": "aaad770c",
   "metadata": {},
   "source": [
    "### Simple Recurrent Network\n",
    "\n",
    "The diagram below shows the unrolled SRN that you will develop here. As is\n",
    "always true for recurrent networks, notice the tied weights $U$, $W$, $V$,\n",
    "etc. <img src=\"images/elman_sent_srn.png\" width=500px> We will deviate from\n",
    "Elman's exact model in a few ways to make it more modern. Here is the\n",
    "specification we will use.\n",
    "\n",
    "- **Input embedding**. In Elman's original model, each word was represented by\n",
    "  a fixed one-hot input vector. Instead, here we will learn a continuous\n",
    "  embedding vector (size `hidden_size=20`) to represent each input word. These\n",
    "  vectors are learnable parameters. When a word is provided as input to the\n",
    "  SRN, it is converted to the corresponding input embedding. This layer is\n",
    "  setup for you already in the started class,\n",
    "  `self.embed = nn.Embedding(vocab_size,hidden_size)`\n",
    "- **Hidden layer**. This layer has length `hidden_size` and uses the\n",
    "  **logistic** activation function. The initial vector $h_{-1}$ should be all\n",
    "  zeros.\n",
    "- **Output layer**. This layer has length `vocab_size` and uses the\n",
    "  **softmax** activation function. Thus, the SRN will represent an explicit\n",
    "  probability distribution over the next token $w_j$ given the past tokens\n",
    "  $w_1,\\dots,w_{j-1}$, through the equation $P(w_j | w_1,\\dots,w_{j-1})$\n",
    "- **Loss**. The SRN will train to maximize the log-likelihood of the target\n",
    "  output words, e.g., we use the negative log-likelihood loss `nn.NLLLoss`. If\n",
    "  passed a tensor representing multiple target predictions, this loss takes\n",
    "  the mean across predictions.\n",
    "- **Optimizer**. We found reasonable results with the `AdamW` optimizer with\n",
    "  weight decay of 0.04. Adam is like stochastic gradient descent but adapts\n",
    "  the learning rate for each parameter based on the variance of the gradient.\n",
    "  Weight decay encourages the parameters to be close to zero leading to more\n",
    "  stable input embeddings.\n",
    "- **Batching**. We suggest _no batching_ for this simple code. Thus, the\n",
    "  optimizer takes a step after each individual sentence. The `forward` method\n",
    "  should process only one input word at a time. Batching produces much faster\n",
    "  code and is recommended in practice, but it's not required here. If you want\n",
    "  to rewrite the code to process multiple timesteps and sentences\n",
    "  simultaneously, that's fine too.\n"
   ]
  },
  {
   "cell_type": "markdown",
   "id": "78584536",
   "metadata": {},
   "source": [
    "<div class=\"alert alert-success\" role=\"alert\">\n",
    "<h3> Problem 1 (20 points) </h3>\n",
    "<br>\n",
    "Write code to complete the SRN class.\n",
    "</div>\n"
   ]
  },
  {
   "cell_type": "code",
   "execution_count": 3,
   "id": "0fe40b14",
   "metadata": {},
   "outputs": [],
   "source": [
    "class SRN(nn.Module):\n",
    "\n",
    "    def __init__(self, vocab_size, hidden_size):\n",
    "        # vocab_size : number of tokens in vocabulary including special tokens <SOS> and <EOS>\n",
    "        # hidden_size : dim of input embeddings and hidden layer\n",
    "        super().__init__()\n",
    "        self.vocab_size = vocab_size\n",
    "        self.hidden_size = hidden_size\n",
    "        self.embed = nn.Embedding(vocab_size, hidden_size)\n",
    "        # TODO : YOUR CODE GOES HERE\n",
    "        self.U = nn.Linear(hidden_size, hidden_size, bias=False)\n",
    "        self.W = nn.Linear(hidden_size, hidden_size, bias=True)\n",
    "        self.V = nn.Linear(hidden_size, vocab_size, bias=True)\n",
    "        # raise Exception(\"Replace with your code.\")\n",
    "\n",
    "    def forward(self, input_token_index, hidden_prev):\n",
    "        # Input\n",
    "        #    input_token_index: [integer] index of current input token\n",
    "        #    hidden_prev: [length hidden_size 1D tensor] hidden state from previous step\n",
    "        # Outpuut\n",
    "        #    output: [length vocab_size 1D tensor] log-probability of emitting each output token\n",
    "        #    hidden_curr : [length hidden_size 1D tensor] hidden state for current step\n",
    "        input_embed = self.embed(input_token_index)  # hidden_size 1D tensor\n",
    "        # TODO : YOUR CODE GOES HERE\n",
    "        hidden_curr = torch.sigmoid(self.U(input_embed) + self.W(hidden_prev))\n",
    "        output_log = self.V(hidden_curr)\n",
    "        output = nn.functional.log_softmax(output_log, dim=-1)\n",
    "        # raise Exception(\"Replace with your code.\")\n",
    "        return output, hidden_curr\n",
    "\n",
    "    def initHidden(self):\n",
    "        # Returns length hidden_size 1D tensor of zeros\n",
    "        return torch.zeros(self.hidden_size)\n",
    "\n",
    "    def get_embeddings(self):\n",
    "        # Returns [vocab_size x hidden_size] numpy array of input embeddings\n",
    "        return self.embed(torch.arange(self.vocab_size)).detach().numpy()"
   ]
  },
  {
   "cell_type": "markdown",
   "id": "21839809",
   "metadata": {},
   "source": [
    "<div class=\"alert alert-success\" role=\"alert\">\n",
    "<h3> Problem 2 (20 points) </h3>\n",
    "<br>\n",
    "Write code to complete the `train` function and the main training loop. In the training loop, for each epoch, print out the mean loss over all training patterns. An epoch should visit each sentence in random order, taking an optimizer step after each sentence.\n",
    "</div>\n",
    "\n",
    "**Hint:** In my implementation, after 10 epochs, I found that the mean loss to\n",
    "reach about 1.57. In other words, the SRN predicts the right word with roughly\n",
    "$e^{-1.57}=0.208$ probability of getting it right. (Of course, perfect\n",
    "prediction is impossible in even this simple language).\n"
   ]
  },
  {
   "cell_type": "code",
   "execution_count": 26,
   "id": "a8b6b7bc",
   "metadata": {},
   "outputs": [],
   "source": [
    "def train(seq_tensor, rnn):\n",
    "    # Process a sentence and update the SRN weights. With <SOS> as the input at step 0,\n",
    "    # predict every subsequent word given the past words.\n",
    "    # Return the mean loss across each symbol prediction.\n",
    "    #\n",
    "    # Input\n",
    "    #   seq_tensor: [1D tensor] sentence as token indices\n",
    "    #   rnn : instance of SRN class\n",
    "    # Output\n",
    "    #   loss : [scalar] average NLL loss across prediction steps\n",
    "\n",
    "    # TODO : YOUR CODE GOES HERE\n",
    "    hidden = rnn.initHidden()\n",
    "    rnn.train()\n",
    "    rnn.zero_grad()\n",
    "    \n",
    "    total_loss = 0\n",
    "    for i in range(len(seq_tensor) - 1):\n",
    "        input_token_index = seq_tensor[i]\n",
    "        output_token_index = seq_tensor[i + 1]\n",
    "\n",
    "        output, hidden = rnn(input_token_index, hidden)\n",
    "\n",
    "        loss = criterion(output.view(1, -1), output_token_index.view(-1))\n",
    "        total_loss += loss\n",
    "\n",
    "    total_loss.backward()\n",
    "    optimizer.step()\n",
    "    \n",
    "    return total_loss.item() / (len(seq_tensor) - 1)\n",
    "    # raise Exception(\"Replace with your code.\")"
   ]
  },
  {
   "cell_type": "code",
   "execution_count": 27,
   "id": "c8c0c754",
   "metadata": {},
   "outputs": [
    {
     "name": "stdout",
     "output_type": "stream",
     "text": [
      "Epoch 1, Mean Loss: 1.7712\n",
      "Epoch 2, Mean Loss: 1.5851\n",
      "Epoch 3, Mean Loss: 1.5776\n",
      "Epoch 4, Mean Loss: 1.5765\n",
      "Epoch 5, Mean Loss: 1.5755\n",
      "Epoch 6, Mean Loss: 1.5751\n",
      "Epoch 7, Mean Loss: 1.5748\n",
      "Epoch 8, Mean Loss: 1.5746\n",
      "Epoch 9, Mean Loss: 1.5749\n",
      "Epoch 10, Mean Loss: 1.5745\n"
     ]
    }
   ],
   "source": [
    "import random\n",
    "# Main training loop\n",
    "nepochs = 10  # number of passes through the entire training set\n",
    "nhidden = 20  # number of hidden units in the SRN\n",
    "rnn = SRN(n_tokens, nhidden)\n",
    "optimizer = torch.optim.AdamW(\n",
    "    rnn.parameters(), weight_decay=0.04\n",
    ")  # w/ default learning rate 0.001\n",
    "criterion = nn.NLLLoss()\n",
    "# TODO : YOUR CODE GOES HERE\n",
    "for epoch in range(nepochs):\n",
    "    random.shuffle(training_pats)\n",
    "    total_epoch_loss = 0\n",
    "\n",
    "    for seq_tensor in training_pats:\n",
    "        mean_loss = train(seq_tensor, rnn)\n",
    "        total_epoch_loss += mean_loss\n",
    "    \n",
    "    mean_epoch_loss = total_epoch_loss / len(training_pats)\n",
    "    print(f'Epoch {epoch + 1}, Mean Loss: {mean_epoch_loss:.4f}')\n",
    "# raise Exception(\"Replace with your code.\")"
   ]
  },
  {
   "cell_type": "markdown",
   "id": "29604f26",
   "metadata": {},
   "source": [
    "### Analyze the SRN internal representations\n",
    "\n",
    "Once training is done, we want to examine the internal representations to see\n",
    "what the network has learned about the lexical items. Elman ran a hierarchical\n",
    "clustering analysis using the mean hidden representation of each word when\n",
    "presented across the corpus. <img src=\"images/elman_fig7.png\" width=500px>\n",
    "\n",
    "Unlike Elman we have an **explicit input embedding** for each word, and thus\n",
    "we can more simply look at these embedding vectors. Run the code to compare\n",
    "with Elman's results. _You shouldn't expect a close match._ There are\n",
    "differences in network architecture, training, and the dataset. Still, it's\n",
    "interesting to see what your SRN has learned.\n"
   ]
  },
  {
   "cell_type": "code",
   "execution_count": 28,
   "id": "8f7455dc",
   "metadata": {},
   "outputs": [
    {
     "data": {
      "image/png": "[encoded data removed]",
      "text/plain": [
       "<Figure size 2000x600 with 1 Axes>"
      ]
     },
     "metadata": {},
     "output_type": "display_data"
    }
   ],
   "source": [
    "def plot_dendo(X, names, exclude=[\"<SOS>\", \"<EOS>\"]):\n",
    "    #  Show hierarchical clustering of vectors\n",
    "    #\n",
    "    # Input\n",
    "    #  X : numpy tensor [nitem x dim] such that each row is a vector to be clustered\n",
    "    #  names : [length nitem] list of item names\n",
    "    #  exclude: list of names we want to exclude\n",
    "    nitem = len(names)\n",
    "    names = np.array(names)\n",
    "    include = np.array([myname not in exclude for myname in names], dtype=bool)\n",
    "    linked = linkage(X[include], \"single\", optimal_ordering=True)\n",
    "    plt.figure(1, figsize=(20, 6))\n",
    "    dendrogram(linked, labels=names[include], color_threshold=0, leaf_font_size=18)\n",
    "    plt.show()\n",
    "\n",
    "\n",
    "plot_dendo(rnn.get_embeddings(), unique_tokens)"
   ]
  },
  {
   "cell_type": "markdown",
   "id": "d88d44b0",
   "metadata": {},
   "source": [
    "<div class=\"alert alert-success\" role=\"alert\">\n",
    "<h3> Problem 3 (10 points) </h3>\n",
    "<br>\n",
    "Write a function `generate` to probabilistically sample sentences from your network. Generate 10 sample sentences in this manner. For each, convert the sequence of token indices back to string form. When printing the sentence, you can either include the SOS and EOS or ignore them. It's fine to assume a maximum length.\n",
    "</div>\n",
    "\n",
    "**Hint:** You will find `torch.distributions.categorical.Categorical` useful.\n"
   ]
  },
  {
   "cell_type": "code",
   "execution_count": 37,
   "id": "7d38772e",
   "metadata": {},
   "outputs": [
    {
     "name": "stdout",
     "output_type": "stream",
     "text": [
      "dragon break\n",
      "woman think\n",
      "man eat cookie\n",
      "dragon eat boy\n",
      "boy break cookie\n",
      "boy move\n",
      "woman exist\n",
      "man break sandwich\n",
      "monster eat man\n",
      "dragon eat boy\n"
     ]
    }
   ],
   "source": [
    "def generate(rnn, maxlen=4):\n",
    "    # TODO : YOUR CODE GOES HERE\n",
    "    input_token_index = torch.tensor([1])\n",
    "    hidden = rnn.initHidden()\n",
    "    \n",
    "    generated_tokens = []\n",
    "    \n",
    "    for _ in range(maxlen):\n",
    "        output, hidden = rnn(input_token_index, hidden)\n",
    "    \n",
    "        probabilities = torch.softmax(output.view(-1), dim=0)\n",
    "        distribution = torch.distributions.categorical.Categorical(probabilities)\n",
    "        input_token_index = distribution.sample()\n",
    "        \n",
    "        generated_tokens.append(input_token_index.item())\n",
    "        \n",
    "        if input_token_index.item() == 0:\n",
    "            break\n",
    "    \n",
    "    generated_sentence = ' '.join([index_to_token[idx] for idx in generated_tokens[:-1]])\n",
    "    \n",
    "    print(generated_sentence)\n",
    "    return generated_sentence\n",
    "    # raise Exception(\"Replace with your code.\")\n",
    "\n",
    "\n",
    "for i in range(10):\n",
    "    generate(rnn)"
   ]
  }
 ],
 "metadata": {
  "kernelspec": {
   "display_name": "Python 3 (ipykernel)",
   "language": "python",
   "name": "python3"
  },
  "language_info": {
   "codemirror_mode": {
    "name": "ipython",
    "version": 3
   },
   "file_extension": ".py",
   "mimetype": "text/x-python",
   "name": "python",
   "nbconvert_exporter": "python",
   "pygments_lexer": "ipython3",
   "version": "3.11.4"
  }
 },
 "nbformat": 4,
 "nbformat_minor": 5
}
